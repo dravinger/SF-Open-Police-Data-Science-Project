{
 "cells": [
  {
   "cell_type": "code",
   "execution_count": 3,
   "metadata": {},
   "outputs": [],
   "source": [
    "import pandas as pd\n",
    "import numpy as np\n",
    "import seaborn as sns\n",
    "import matplotlib.pyplot as plt"
   ]
  },
  {
   "cell_type": "code",
   "execution_count": 4,
   "metadata": {},
   "outputs": [],
   "source": [
    "police_data_df = pd.read_csv('C:/Users/DeAndre/Documents/GitHub/SFPD-Police-Data-Project/data/raw/Police_Department_Incident_Reports__2018_to_Present.csv')"
   ]
  },
  {
   "cell_type": "markdown",
   "metadata": {},
   "source": [
    "# Basic Descriptive Statistics"
   ]
  },
  {
   "cell_type": "code",
   "execution_count": 5,
   "metadata": {},
   "outputs": [
    {
     "data": {
      "text/plain": [
       "(421700, 27)"
      ]
     },
     "execution_count": 5,
     "metadata": {},
     "output_type": "execute_result"
    }
   ],
   "source": [
    "police_data_df.shape"
   ]
  },
  {
   "cell_type": "markdown",
   "metadata": {},
   "source": [
    "It appears our data has 27 columns and 421,700 rows (which matches up with what we know)."
   ]
  },
  {
   "cell_type": "code",
   "execution_count": 6,
   "metadata": {
    "scrolled": true
   },
   "outputs": [
    {
     "data": {
      "text/plain": [
       "Index(['Incident Datetime', 'Incident Date', 'Incident Time', 'Incident Year',\n",
       "       'Incident Day of Week', 'Report Datetime', 'Row ID', 'Incident ID',\n",
       "       'Incident Number', 'CAD Number', 'Report Type Code',\n",
       "       'Report Type Description', 'Filed Online', 'Incident Code',\n",
       "       'Incident Category', 'Incident Subcategory', 'Incident Description',\n",
       "       'Resolution', 'Intersection', 'CNN', 'Police District',\n",
       "       'Analysis Neighborhood', 'Supervisor District', 'Latitude', 'Longitude',\n",
       "       'shape', 'Neighborhoods'],\n",
       "      dtype='object')"
      ]
     },
     "execution_count": 6,
     "metadata": {},
     "output_type": "execute_result"
    }
   ],
   "source": [
    "police_data_df.columns"
   ]
  },
  {
   "cell_type": "code",
   "execution_count": 19,
   "metadata": {},
   "outputs": [
    {
     "name": "stdout",
     "output_type": "stream",
     "text": [
      "<class 'pandas.core.frame.DataFrame'>\n",
      "RangeIndex: 421700 entries, 0 to 421699\n",
      "Data columns (total 27 columns):\n",
      " #   Column                   Non-Null Count   Dtype  \n",
      "---  ------                   --------------   -----  \n",
      " 0   Incident Datetime        421700 non-null  object \n",
      " 1   Incident Date            421696 non-null  object \n",
      " 2   Incident Time            421696 non-null  object \n",
      " 3   Incident Year            421696 non-null  float64\n",
      " 4   Incident Day of Week     421696 non-null  object \n",
      " 5   Report Datetime          421696 non-null  object \n",
      " 6   Row ID                   421695 non-null  float64\n",
      " 7   Incident ID              421695 non-null  float64\n",
      " 8   Incident Number          421695 non-null  float64\n",
      " 9   CAD Number               327836 non-null  float64\n",
      " 10  Report Type Code         421695 non-null  object \n",
      " 11  Report Type Description  421695 non-null  object \n",
      " 12  Filed Online             86232 non-null   object \n",
      " 13  Incident Code            421695 non-null  float64\n",
      " 14  Incident Category        421384 non-null  object \n",
      " 15  Incident Subcategory     421384 non-null  object \n",
      " 16  Incident Description     421695 non-null  object \n",
      " 17  Resolution               421695 non-null  object \n",
      " 18  Intersection             399794 non-null  object \n",
      " 19  CNN                      399794 non-null  float64\n",
      " 20  Police District          421695 non-null  object \n",
      " 21  Analysis Neighborhood    399715 non-null  object \n",
      " 22  Supervisor District      399794 non-null  float64\n",
      " 23  Latitude                 399794 non-null  float64\n",
      " 24  Longitude                399794 non-null  float64\n",
      " 25  shape                    399794 non-null  object \n",
      " 26  Neighborhoods            391148 non-null  float64\n",
      "dtypes: float64(11), object(16)\n",
      "memory usage: 86.9+ MB\n"
     ]
    }
   ],
   "source": [
    "police_data_df.info()"
   ]
  },
  {
   "cell_type": "code",
   "execution_count": 7,
   "metadata": {},
   "outputs": [
    {
     "data": {
      "text/plain": [
       "Incident Datetime          197820\n",
       "Incident Date                1220\n",
       "Incident Time                1440\n",
       "Incident Year                   4\n",
       "Incident Day of Week            7\n",
       "Report Datetime            298991\n",
       "Row ID                     421695\n",
       "Incident ID                349811\n",
       "Incident Number            305128\n",
       "CAD Number                 240097\n",
       "Report Type Code                4\n",
       "Report Type Description         6\n",
       "Filed Online                    1\n",
       "Incident Code                 799\n",
       "Incident Category              49\n",
       "Incident Subcategory           71\n",
       "Incident Description          796\n",
       "Resolution                      4\n",
       "Intersection                 6347\n",
       "CNN                          6435\n",
       "Police District                11\n",
       "Analysis Neighborhood          41\n",
       "Supervisor District            11\n",
       "Latitude                     6435\n",
       "Longitude                    6435\n",
       "shape                        6435\n",
       "Neighborhoods                 116\n",
       "dtype: int64"
      ]
     },
     "execution_count": 7,
     "metadata": {},
     "output_type": "execute_result"
    }
   ],
   "source": [
    "police_data_df.nunique()"
   ]
  },
  {
   "cell_type": "code",
   "execution_count": 20,
   "metadata": {},
   "outputs": [
    {
     "data": {
      "text/plain": [
       "Incident Datetime               0\n",
       "Incident Date                   4\n",
       "Incident Time                   4\n",
       "Incident Year                   4\n",
       "Incident Day of Week            4\n",
       "Report Datetime                 4\n",
       "Row ID                          5\n",
       "Incident ID                     5\n",
       "Incident Number                 5\n",
       "CAD Number                  93864\n",
       "Report Type Code                5\n",
       "Report Type Description         5\n",
       "Filed Online               335468\n",
       "Incident Code                   5\n",
       "Incident Category             316\n",
       "Incident Subcategory          316\n",
       "Incident Description            5\n",
       "Resolution                      5\n",
       "Intersection                21906\n",
       "CNN                         21906\n",
       "Police District                 5\n",
       "Analysis Neighborhood       21985\n",
       "Supervisor District         21906\n",
       "Latitude                    21906\n",
       "Longitude                   21906\n",
       "shape                       21906\n",
       "Neighborhoods               30552\n",
       "dtype: int64"
      ]
     },
     "execution_count": 20,
     "metadata": {},
     "output_type": "execute_result"
    }
   ],
   "source": [
    "police_data_df.isnull().sum()"
   ]
  },
  {
   "cell_type": "markdown",
   "metadata": {},
   "source": [
    "Observations: 'Incident Year' and 'Incident Day of Week' show the expected value ranges. Data has a significant number of rows with missing values. Largest being the columns where the incident location would be listed ('Intersection' , 'CNN' , 'Supervisor District', 'Latitude', 'Longitude', 'shape', 'Analysis Neighborhood', & 'Neighborhoods'). This may be due to the number of incident reports that were filed online, thus there would not be an officer on seen to list the location in the report."
   ]
  },
  {
   "cell_type": "code",
   "execution_count": null,
   "metadata": {},
   "outputs": [],
   "source": [
    "police_data_df[\"Incident Code\"].unique()"
   ]
  },
  {
   "cell_type": "code",
   "execution_count": null,
   "metadata": {},
   "outputs": [],
   "source": [
    "police_data_df[\"Report Type Code\"].value_counts()"
   ]
  },
  {
   "cell_type": "code",
   "execution_count": 5,
   "metadata": {},
   "outputs": [
    {
     "data": {
      "text/plain": [
       "Open or Active          368571\n",
       "Cite or Arrest Adult     98599\n",
       "Unfounded                 2963\n",
       "Exceptional Adult         1220\n",
       "Name: Resolution, dtype: int64"
      ]
     },
     "execution_count": 5,
     "metadata": {},
     "output_type": "execute_result"
    }
   ],
   "source": [
    "police_data_df['Resolution'].value_counts()"
   ]
  },
  {
   "cell_type": "code",
   "execution_count": null,
   "metadata": {},
   "outputs": [],
   "source": [
    "police_data_df['Incident Day of Week'].value_counts()"
   ]
  },
  {
   "cell_type": "markdown",
   "metadata": {},
   "source": [
    "Data Visualizations"
   ]
  },
  {
   "cell_type": "code",
   "execution_count": 16,
   "metadata": {},
   "outputs": [
    {
     "data": {
      "image/png": "[encoded data removed]",
      "text/plain": [
       "<Figure size 432x288 with 1 Axes>"
      ]
     },
     "metadata": {
      "needs_background": "light"
     },
     "output_type": "display_data"
    }
   ],
   "source": [
    "Incidents_by_Year = sns.countplot(x=\"Incident Year\", data=police_data_df)"
   ]
  },
  {
   "cell_type": "markdown",
   "metadata": {},
   "source": [
    "Here we see the number of incidents broken down by calendar year. The only interesting note is the sharp decrease in number of incidents in 2020, but there's a good reason for that anomaly."
   ]
  },
  {
   "cell_type": "code",
   "execution_count": 12,
   "metadata": {},
   "outputs": [
    {
     "data": {
      "image/png": "[encoded data removed]",
      "text/plain": [
       "<Figure size 432x288 with 1 Axes>"
      ]
     },
     "metadata": {
      "needs_background": "light"
     },
     "output_type": "display_data"
    }
   ],
   "source": [
    "Incidents_by_Day_of_Week = sns.countplot(x=\"Incident Day of Week\", data=police_data_df)"
   ]
  },
  {
   "cell_type": "code",
   "execution_count": 17,
   "metadata": {},
   "outputs": [
    {
     "data": {
      "image/png": "[encoded data removed]",
      "text/plain": [
       "<Figure size 432x288 with 1 Axes>"
      ]
     },
     "metadata": {
      "needs_background": "light"
     },
     "output_type": "display_data"
    }
   ],
   "source": [
    "Incidents_by_Year_by_Day_of_Week = sns.countplot(x=\"Incident Year\", hue = \"Incident Day of Week\", data=police_data_df)"
   ]
  },
  {
   "cell_type": "markdown",
   "metadata": {},
   "source": [
    "Nothing to note here in incidents by day of the week, things appear very standard across the week."
   ]
  },
  {
   "cell_type": "code",
   "execution_count": 14,
   "metadata": {},
   "outputs": [
    {
     "data": {
      "image/png": "[encoded data removed]",
      "text/plain": [
       "<Figure size 432x288 with 1 Axes>"
      ]
     },
     "metadata": {
      "needs_background": "light"
     },
     "output_type": "display_data"
    }
   ],
   "source": [
    "Incidents_by_District = sns.countplot(x=\"Police District\", data=police_data_df)"
   ]
  },
  {
   "cell_type": "code",
   "execution_count": 15,
   "metadata": {},
   "outputs": [
    {
     "data": {
      "image/png": "[encoded data removed]",
      "text/plain": [
       "<Figure size 432x288 with 1 Axes>"
      ]
     },
     "metadata": {
      "needs_background": "light"
     },
     "output_type": "display_data"
    }
   ],
   "source": [
    "Incidents_by_Year = sns.countplot(x=\"Incident Year\", hue = \"Police District\", data=police_data_df)"
   ]
  },
  {
   "cell_type": "code",
   "execution_count": 18,
   "metadata": {},
   "outputs": [
    {
     "name": "stdout",
     "output_type": "stream",
     "text": [
      "             Analysis Neighborhood  counts\n",
      "18                         Mission   44741\n",
      "35                      Tenderloin   41374\n",
      "5   Financial District/South Beach   34769\n",
      "33                 South of Market   33451\n",
      "0            Bayview Hunters Point   24663\n",
      "40                Western Addition   13143\n",
      "2              Castro/Upper Market   12377\n",
      "22                     North Beach   12145\n",
      "34                 Sunset/Parkside   11764\n",
      "20                        Nob Hill   11681\n",
      "     Incident Code  counts\n",
      "225         6244.0   53411\n",
      "780        71000.0   13774\n",
      "659        28150.0   13323\n",
      "251         6372.0   12824\n",
      "120         4134.0   12421\n",
      "274         7041.0   10725\n",
      "740        64020.0   10326\n",
      "267         7021.0   10267\n",
      "253         6374.0   10119\n",
      "215         6224.0    7570\n",
      "      Incident Category  counts\n",
      "18        Larceny Theft  129152\n",
      "29  Other Miscellaneous   31292\n",
      "21   Malicious Mischief   27095\n",
      "26         Non-Criminal   26042\n",
      "1               Assault   25222\n",
      "2              Burglary   22506\n",
      "24  Motor Vehicle Theft   18293\n",
      "33    Recovered Vehicle   14570\n",
      "45              Warrant   14304\n",
      "20        Lost Property   13774\n",
      "      Incident Subcategory  counts\n",
      "26  Larceny - From Vehicle   72935\n",
      "43                   Other   56984\n",
      "29   Larceny Theft - Other   31621\n",
      "66               Vandalism   26685\n",
      "40     Motor Vehicle Theft   18154\n",
      "55          Simple Assault   16023\n",
      "48       Recovered Vehicle   14570\n",
      "42            Non-Criminal   14349\n",
      "35           Lost Property   13774\n",
      "18                   Fraud   13520\n",
      "                          Incident Description  counts\n",
      "672          Theft, From Locked Vehicle, >$950   53411\n",
      "380                              Lost Property   13774\n",
      "395  Malicious Mischief, Vandalism to Property   13323\n",
      "692            Theft, Other Property, $50-$200   12824\n",
      "73                                     Battery   12421\n",
      "750                   Vehicle, Recovered, Auto   10725\n",
      "406                    Mental Health Detention   10326\n",
      "760                      Vehicle, Stolen, Auto   10267\n",
      "694               Theft, Other Property, >$950   10119\n",
      "682        Theft, From Unlocked Vehicle, >$950    7570\n"
     ]
    }
   ],
   "source": [
    "cols = [\n",
    "    'Analysis Neighborhood',\n",
    "    'Incident Code',\n",
    "    'Incident Category',\n",
    "    'Incident Subcategory',\n",
    "    'Incident Description'\n",
    "]\n",
    "\n",
    "for col in cols:\n",
    "    out = (\n",
    "        police_data_df\n",
    "        .groupby([col])\n",
    "        .size()\n",
    "        .reset_index(name='counts')\n",
    "    )\n",
    "    print(out.sort_values(by=['counts'], ascending=False).head(10))"
   ]
  },
  {
   "cell_type": "markdown",
   "metadata": {},
   "source": [
    "Correlation Matrix of Incidents by Time"
   ]
  },
  {
   "cell_type": "code",
   "execution_count": null,
   "metadata": {},
   "outputs": [],
   "source": []
  }
 ],
 "metadata": {
  "kernelspec": {
   "display_name": "Python 3",
   "language": "python",
   "name": "python3"
  },
  "language_info": {
   "codemirror_mode": {
    "name": "ipython",
    "version": 3
   },
   "file_extension": ".py",
   "mimetype": "text/x-python",
   "name": "python",
   "nbconvert_exporter": "python",
   "pygments_lexer": "ipython3",
   "version": "3.8.5"
  }
 },
 "nbformat": 4,
 "nbformat_minor": 4
}
