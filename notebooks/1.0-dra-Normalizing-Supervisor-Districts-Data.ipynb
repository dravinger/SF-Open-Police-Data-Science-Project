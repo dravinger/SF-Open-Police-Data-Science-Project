{
 "cells": [
  {
   "cell_type": "code",
   "execution_count": 1,
   "metadata": {},
   "outputs": [],
   "source": [
    "import pandas as pd\n",
    "import numpy as np\n",
    "import seaborn as sns\n",
    "import matplotlib.pyplot as plt\n",
    "from sklearn.preprocessing import MinMaxScaler"
   ]
  },
  {
   "cell_type": "code",
   "execution_count": 3,
   "metadata": {},
   "outputs": [],
   "source": [
    "Sp_df = pd.read_excel('C:/Users/DeAndre/Documents/GitHub/SFPD-Police-Data-Project/data/raw/Test.xlsx')"
   ]
  },
  {
   "cell_type": "code",
   "execution_count": 4,
   "metadata": {},
   "outputs": [
    {
     "name": "stdout",
     "output_type": "stream",
     "text": [
      "    Unnamed: 0  Unnamed: 1  Unnamed: 2  Unnamed: 3  Unnamed: 4  Unnamed: 5  \\\n",
      "0          NaN       79970        3660        0.48        0.52       32240   \n",
      "1          NaN       68390         870        0.48        0.52       35960   \n",
      "2          NaN       72360         530        0.50        0.50       39840   \n",
      "3          NaN       77000         420        0.49        0.51       26680   \n",
      "4          NaN       84030        1880        0.51        0.49       40460   \n",
      "5          NaN       69360        4770        0.57        0.43       37280   \n",
      "6          NaN       74710        3850        0.49        0.51       27280   \n",
      "7          NaN       68200         530        0.57        0.43       34190   \n",
      "8          NaN       86430        1150        0.53        0.47       30580   \n",
      "9          NaN       75250         990        0.49        0.51       23910   \n",
      "10         NaN       86120         910        0.50        0.50       24080   \n",
      "\n",
      "    Unnamed: 6  Unnamed: 7  Unnamed: 8  Unnamed: 9  ...  Unnamed: 90  \\\n",
      "0         0.51        0.49        0.33        0.18  ...        44810   \n",
      "1         0.35        0.65        0.47        0.14  ...        43790   \n",
      "2         0.33        0.67        0.52        0.90  ...        41890   \n",
      "3         0.66        0.34        0.23        0.25  ...        40370   \n",
      "4         0.35        0.65        0.42        0.13  ...        53410   \n",
      "5         0.31        0.69        0.55        0.10  ...        37750   \n",
      "6         0.62        0.38        0.25        0.24  ...        37470   \n",
      "7         0.35        0.65        0.41        0.14  ...        44410   \n",
      "8         0.52        0.47        0.29        0.25  ...       479590   \n",
      "9         0.68        0.32        0.22        0.35  ...        36490   \n",
      "10        0.73        0.27        0.16        0.32  ...        43750   \n",
      "\n",
      "    Unnamed: 91  Unnamed: 92  Unnamed: 93  Unnamed: 94  Unnamed: 95  \\\n",
      "0          0.45         0.38         0.08         0.34         0.04   \n",
      "1          0.40         0.34         0.06         0.33         0.03   \n",
      "2          0.23         0.19         0.05         0.29         0.02   \n",
      "3          0.60         0.48         0.12         0.28         0.02   \n",
      "4          0.31         0.26         0.05         0.41         0.07   \n",
      "5          0.21         0.17         0.04         0.37         0.05   \n",
      "6          0.55         0.47         0.09         0.30         0.01   \n",
      "7          0.38         0.32         0.05         0.38         0.07   \n",
      "8          0.41         0.34         0.07         0.34         0.09   \n",
      "9          0.57         0.47         0.11         0.29         0.03   \n",
      "10         0.59         0.49         0.10         0.34         0.01   \n",
      "\n",
      "    Unnamed: 96  Unnamed: 97  Unnamed: 98  Unnamed: 99  \n",
      "0          0.07         0.02         0.08         24.5  \n",
      "1          0.08         0.05         0.11         21.1  \n",
      "2          0.35         0.04         0.07         58.7  \n",
      "3          0.03         0.02         0.05         31.0  \n",
      "4          0.11         0.04         0.07         56.0  \n",
      "5          0.31         0.03         0.05         30.5  \n",
      "6          0.06         0.01         0.06         15.1  \n",
      "7          0.05         0.03         0.10         36.9  \n",
      "8          0.07         0.03         0.06         38.6  \n",
      "9          0.04         0.02         0.04         15.2  \n",
      "10         0.02         0.01         0.03         41.6  \n",
      "\n",
      "[11 rows x 100 columns]\n"
     ]
    }
   ],
   "source": [
    "print(Sp_df)"
   ]
  },
  {
   "cell_type": "code",
   "execution_count": 5,
   "metadata": {},
   "outputs": [
    {
     "name": "stdout",
     "output_type": "stream",
     "text": [
      "[[       nan 0.64563906 0.74482759 ... 0.25       0.625      0.21559633]\n",
      " [       nan 0.01042238 0.10344828 ... 1.         1.         0.13761468]\n",
      " [       nan 0.22819528 0.02528736 ... 0.75       0.5        1.        ]\n",
      " ...\n",
      " [       nan 1.         0.16781609 ... 0.5        0.375      0.53899083]\n",
      " [       nan 0.38672518 0.13103448 ... 0.25       0.125      0.00229358]\n",
      " [       nan 0.98299506 0.11264368 ... 0.         0.         0.60779817]]\n"
     ]
    },
    {
     "name": "stderr",
     "output_type": "stream",
     "text": [
      "C:\\Users\\DeAndre\\Anaconda3\\lib\\site-packages\\sklearn\\preprocessing\\_data.py:373: RuntimeWarning: All-NaN slice encountered\n",
      "  data_min = np.nanmin(X, axis=0)\n",
      "C:\\Users\\DeAndre\\Anaconda3\\lib\\site-packages\\sklearn\\preprocessing\\_data.py:374: RuntimeWarning: All-NaN slice encountered\n",
      "  data_max = np.nanmax(X, axis=0)\n"
     ]
    }
   ],
   "source": [
    "scaler = MinMaxScaler()\n",
    "scaled = scaler.fit_transform(Sp_df)\n",
    "print(scaled)"
   ]
  },
  {
   "cell_type": "code",
   "execution_count": null,
   "metadata": {},
   "outputs": [],
   "source": []
  }
 ],
 "metadata": {
  "kernelspec": {
   "display_name": "Python 3",
   "language": "python",
   "name": "python3"
  },
  "language_info": {
   "codemirror_mode": {
    "name": "ipython",
    "version": 3
   },
   "file_extension": ".py",
   "mimetype": "text/x-python",
   "name": "python",
   "nbconvert_exporter": "python",
   "pygments_lexer": "ipython3",
   "version": "3.8.5"
  }
 },
 "nbformat": 4,
 "nbformat_minor": 4
}
