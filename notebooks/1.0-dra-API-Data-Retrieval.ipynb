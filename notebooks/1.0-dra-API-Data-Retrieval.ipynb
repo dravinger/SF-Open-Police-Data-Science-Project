{
 "cells": [
  {
   "cell_type": "code",
   "execution_count": 7,
   "metadata": {},
   "outputs": [],
   "source": [
    "import requests\n",
    "import pandas as pd\n",
    "from sodapy import Socrata"
   ]
  },
  {
   "cell_type": "code",
   "execution_count": 15,
   "metadata": {},
   "outputs": [
    {
     "name": "stderr",
     "output_type": "stream",
     "text": [
      "WARNING:root:Requests made without an app_token will be subject to strict throttling limits.\n"
     ]
    }
   ],
   "source": [
    "client = Socrata(\"data.sfgov.org\", None)\n",
    "\n",
    "# First 2000 results, returned as JSON from API / converted to Python list of\n",
    "# dictionaries by sodapy.\n",
    "results = client.get(\"wg3w-h783\")\n",
    "\n",
    "# Convert to pandas DataFrame\n",
    "results_df = pd.DataFrame.from_records(results)"
   ]
  },
  {
   "cell_type": "code",
   "execution_count": 20,
   "metadata": {},
   "outputs": [
    {
     "data": {
      "text/plain": [
       "incident_datetime                0\n",
       "incident_date                    0\n",
       "incident_time                    0\n",
       "incident_year                    0\n",
       "incident_day_of_week             0\n",
       "report_datetime                  0\n",
       "row_id                           0\n",
       "incident_id                      0\n",
       "incident_number                  0\n",
       "report_type_code                 0\n",
       "report_type_description          0\n",
       "filed_online                   769\n",
       "incident_code                    0\n",
       "incident_category                1\n",
       "incident_subcategory             1\n",
       "incident_description             0\n",
       "resolution                       0\n",
       "intersection                    90\n",
       "cnn                             90\n",
       "police_district                  0\n",
       "analysis_neighborhood           90\n",
       "supervisor_district             90\n",
       "latitude                        90\n",
       "longitude                       90\n",
       "point                           90\n",
       ":@computed_region_jwn9_ihcz    115\n",
       ":@computed_region_h4ep_8xdi    905\n",
       ":@computed_region_n4xg_c4py    914\n",
       ":@computed_region_nqbw_i6c3    830\n",
       ":@computed_region_26cr_cadq     90\n",
       ":@computed_region_qgnn_b9vv     91\n",
       "cad_number                     253\n",
       ":@computed_region_jg9y_a9du    987\n",
       "dtype: int64"
      ]
     },
     "execution_count": 20,
     "metadata": {},
     "output_type": "execute_result"
    }
   ],
   "source": [
    "results_df.isnull().sum()"
   ]
  },
  {
   "cell_type": "code",
   "execution_count": null,
   "metadata": {},
   "outputs": [],
   "source": []
  }
 ],
 "metadata": {
  "kernelspec": {
   "display_name": "Python 3",
   "language": "python",
   "name": "python3"
  },
  "language_info": {
   "codemirror_mode": {
    "name": "ipython",
    "version": 3
   },
   "file_extension": ".py",
   "mimetype": "text/x-python",
   "name": "python",
   "nbconvert_exporter": "python",
   "pygments_lexer": "ipython3",
   "version": "3.8.5"
  }
 },
 "nbformat": 4,
 "nbformat_minor": 4
}
