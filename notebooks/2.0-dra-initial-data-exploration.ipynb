{
 "cells": [
  {
   "cell_type": "code",
   "execution_count": 2,
   "metadata": {},
   "outputs": [],
   "source": [
    "#For general data manipulation\n",
    "import pandas as pd\n",
    "#package for interacting with the Open Data API\n",
    "from sodapy import Socrata"
   ]
  },
  {
   "cell_type": "code",
   "execution_count": 3,
   "metadata": {},
   "outputs": [],
   "source": [
    "# Unauthenticated client only works with public data sets. Note 'None'\n",
    "# in place of application token, and no username or password:\n",
    "client = Socrata(\"data.sfgov.org\", \"6MxY0IBE0i8PhcQtqMYKjKm7g\")\n",
    "\n",
    "#First 489000 results, returned as JSON from API / converted to Python list of\n",
    "# dictionaries by sodapy.\n",
    "results = client.get(\"wg3w-h783\", limit=489000)\n",
    "\n",
    "# Convert to pandas DataFrame\n",
    "results_df = pd.DataFrame.from_records(results)"
   ]
  },
  {
   "cell_type": "code",
   "execution_count": 4,
   "metadata": {},
   "outputs": [],
   "source": [
    "import numpy as np\n",
    "import seaborn as sns\n",
    "import matplotlib.pyplot as plt"
   ]
  },
  {
   "cell_type": "markdown",
   "metadata": {},
   "source": [
    "# Basic Descriptive Statistics"
   ]
  },
  {
   "cell_type": "code",
   "execution_count": 5,
   "metadata": {},
   "outputs": [
    {
     "data": {
      "text/plain": [
       "(489000, 33)"
      ]
     },
     "execution_count": 5,
     "metadata": {},
     "output_type": "execute_result"
    }
   ],
   "source": [
    "results_df.shape"
   ]
  },
  {
   "cell_type": "markdown",
   "metadata": {},
   "source": [
    "It appears our data has 33 columns and 489,000 rows (which matches up with what we know)."
   ]
  },
  {
   "cell_type": "code",
   "execution_count": 6,
   "metadata": {
    "scrolled": true
   },
   "outputs": [
    {
     "data": {
      "text/plain": [
       "Index(['incident_datetime', 'incident_date', 'incident_time', 'incident_year',\n",
       "       'incident_day_of_week', 'report_datetime', 'row_id', 'incident_id',\n",
       "       'incident_number', 'cad_number', 'report_type_code',\n",
       "       'report_type_description', 'incident_code', 'incident_category',\n",
       "       'incident_subcategory', 'incident_description', 'resolution',\n",
       "       'intersection', 'cnn', 'police_district', 'analysis_neighborhood',\n",
       "       'supervisor_district', 'latitude', 'longitude', 'point',\n",
       "       ':@computed_region_jwn9_ihcz', ':@computed_region_26cr_cadq',\n",
       "       ':@computed_region_qgnn_b9vv', 'filed_online',\n",
       "       ':@computed_region_nqbw_i6c3', ':@computed_region_jg9y_a9du',\n",
       "       ':@computed_region_n4xg_c4py', ':@computed_region_h4ep_8xdi'],\n",
       "      dtype='object')"
      ]
     },
     "execution_count": 6,
     "metadata": {},
     "output_type": "execute_result"
    }
   ],
   "source": [
    "results_df.columns"
   ]
  },
  {
   "cell_type": "code",
   "execution_count": 7,
   "metadata": {},
   "outputs": [
    {
     "name": "stdout",
     "output_type": "stream",
     "text": [
      "<class 'pandas.core.frame.DataFrame'>\n",
      "RangeIndex: 489000 entries, 0 to 488999\n",
      "Data columns (total 33 columns):\n",
      " #   Column                       Non-Null Count   Dtype \n",
      "---  ------                       --------------   ----- \n",
      " 0   incident_datetime            489000 non-null  object\n",
      " 1   incident_date                489000 non-null  object\n",
      " 2   incident_time                489000 non-null  object\n",
      " 3   incident_year                489000 non-null  object\n",
      " 4   incident_day_of_week         489000 non-null  object\n",
      " 5   report_datetime              489000 non-null  object\n",
      " 6   row_id                       489000 non-null  object\n",
      " 7   incident_id                  489000 non-null  object\n",
      " 8   incident_number              489000 non-null  object\n",
      " 9   cad_number                   381871 non-null  object\n",
      " 10  report_type_code             489000 non-null  object\n",
      " 11  report_type_description      489000 non-null  object\n",
      " 12  incident_code                489000 non-null  object\n",
      " 13  incident_category            488582 non-null  object\n",
      " 14  incident_subcategory         488582 non-null  object\n",
      " 15  incident_description         489000 non-null  object\n",
      " 16  resolution                   489000 non-null  object\n",
      " 17  intersection                 464053 non-null  object\n",
      " 18  cnn                          464053 non-null  object\n",
      " 19  police_district              489000 non-null  object\n",
      " 20  analysis_neighborhood        464053 non-null  object\n",
      " 21  supervisor_district          464053 non-null  object\n",
      " 22  latitude                     464053 non-null  object\n",
      " 23  longitude                    464053 non-null  object\n",
      " 24  point                        464053 non-null  object\n",
      " 25  :@computed_region_jwn9_ihcz  453985 non-null  object\n",
      " 26  :@computed_region_26cr_cadq  463969 non-null  object\n",
      " 27  :@computed_region_qgnn_b9vv  463439 non-null  object\n",
      " 28  filed_online                 97884 non-null   object\n",
      " 29  :@computed_region_nqbw_i6c3  104583 non-null  object\n",
      " 30  :@computed_region_jg9y_a9du  5228 non-null    object\n",
      " 31  :@computed_region_n4xg_c4py  62620 non-null   object\n",
      " 32  :@computed_region_h4ep_8xdi  62903 non-null   object\n",
      "dtypes: object(33)\n",
      "memory usage: 123.1+ MB\n"
     ]
    }
   ],
   "source": [
    "results_df.info()"
   ]
  },
  {
   "cell_type": "code",
   "execution_count": 9,
   "metadata": {},
   "outputs": [
    {
     "data": {
      "text/plain": [
       "incident_datetime                   0\n",
       "incident_date                       0\n",
       "incident_time                       0\n",
       "incident_year                       0\n",
       "incident_day_of_week                0\n",
       "report_datetime                     0\n",
       "row_id                              0\n",
       "incident_id                         0\n",
       "incident_number                     0\n",
       "cad_number                     107129\n",
       "report_type_code                    0\n",
       "report_type_description             0\n",
       "incident_code                       0\n",
       "incident_category                 418\n",
       "incident_subcategory              418\n",
       "incident_description                0\n",
       "resolution                          0\n",
       "intersection                    24947\n",
       "cnn                             24947\n",
       "police_district                     0\n",
       "analysis_neighborhood           24947\n",
       "supervisor_district             24947\n",
       "latitude                        24947\n",
       "longitude                       24947\n",
       "point                           24947\n",
       ":@computed_region_jwn9_ihcz     35015\n",
       ":@computed_region_26cr_cadq     25031\n",
       ":@computed_region_qgnn_b9vv     25561\n",
       "filed_online                   391116\n",
       ":@computed_region_nqbw_i6c3    384417\n",
       ":@computed_region_jg9y_a9du    483772\n",
       ":@computed_region_n4xg_c4py    426380\n",
       ":@computed_region_h4ep_8xdi    426097\n",
       "dtype: int64"
      ]
     },
     "execution_count": 9,
     "metadata": {},
     "output_type": "execute_result"
    }
   ],
   "source": [
    "results_df.isnull().sum()"
   ]
  },
  {
   "cell_type": "markdown",
   "metadata": {},
   "source": [
    "Observations: 'Incident Year' and 'Incident Day of Week' show the expected value ranges. Data has a significant number of rows with missing values. Largest being the columns where the incident location would be listed ('Intersection' , 'CNN' , 'Supervisor District', 'Latitude', 'Longitude', 'shape', 'Analysis Neighborhood', & 'Neighborhoods'). This may be due to the number of incident reports that were filed online, thus there would not be an officer on seen to list the location in the report."
   ]
  },
  {
   "cell_type": "code",
   "execution_count": null,
   "metadata": {},
   "outputs": [],
   "source": [
    "police_data_df[\"Incident Code\"].unique()"
   ]
  },
  {
   "cell_type": "code",
   "execution_count": null,
   "metadata": {},
   "outputs": [],
   "source": [
    "police_data_df[\"Report Type Code\"].value_counts()"
   ]
  },
  {
   "cell_type": "code",
   "execution_count": 5,
   "metadata": {},
   "outputs": [
    {
     "data": {
      "text/plain": [
       "Open or Active          368571\n",
       "Cite or Arrest Adult     98599\n",
       "Unfounded                 2963\n",
       "Exceptional Adult         1220\n",
       "Name: Resolution, dtype: int64"
      ]
     },
     "execution_count": 5,
     "metadata": {},
     "output_type": "execute_result"
    }
   ],
   "source": [
    "police_data_df['Resolution'].value_counts()"
   ]
  },
  {
   "cell_type": "code",
   "execution_count": 25,
   "metadata": {},
   "outputs": [
    {
     "data": {
      "text/plain": [
       "Friday       74597\n",
       "Wednesday    72151\n",
       "Monday       69904\n",
       "Saturday     69450\n",
       "Thursday     69257\n",
       "Tuesday      69011\n",
       "Sunday       64630\n",
       "Name: incident_day_of_week, dtype: int64"
      ]
     },
     "execution_count": 25,
     "metadata": {},
     "output_type": "execute_result"
    }
   ],
   "source": [
    "results_df[''].value_counts()"
   ]
  },
  {
   "cell_type": "markdown",
   "metadata": {},
   "source": [
    "# Data Visualizations"
   ]
  },
  {
   "cell_type": "code",
   "execution_count": 18,
   "metadata": {},
   "outputs": [
    {
     "name": "stdout",
     "output_type": "stream",
     "text": [
      "             Analysis Neighborhood  counts\n",
      "18                         Mission   44741\n",
      "35                      Tenderloin   41374\n",
      "5   Financial District/South Beach   34769\n",
      "33                 South of Market   33451\n",
      "0            Bayview Hunters Point   24663\n",
      "40                Western Addition   13143\n",
      "2              Castro/Upper Market   12377\n",
      "22                     North Beach   12145\n",
      "34                 Sunset/Parkside   11764\n",
      "20                        Nob Hill   11681\n",
      "     Incident Code  counts\n",
      "225         6244.0   53411\n",
      "780        71000.0   13774\n",
      "659        28150.0   13323\n",
      "251         6372.0   12824\n",
      "120         4134.0   12421\n",
      "274         7041.0   10725\n",
      "740        64020.0   10326\n",
      "267         7021.0   10267\n",
      "253         6374.0   10119\n",
      "215         6224.0    7570\n",
      "      Incident Category  counts\n",
      "18        Larceny Theft  129152\n",
      "29  Other Miscellaneous   31292\n",
      "21   Malicious Mischief   27095\n",
      "26         Non-Criminal   26042\n",
      "1               Assault   25222\n",
      "2              Burglary   22506\n",
      "24  Motor Vehicle Theft   18293\n",
      "33    Recovered Vehicle   14570\n",
      "45              Warrant   14304\n",
      "20        Lost Property   13774\n",
      "      Incident Subcategory  counts\n",
      "26  Larceny - From Vehicle   72935\n",
      "43                   Other   56984\n",
      "29   Larceny Theft - Other   31621\n",
      "66               Vandalism   26685\n",
      "40     Motor Vehicle Theft   18154\n",
      "55          Simple Assault   16023\n",
      "48       Recovered Vehicle   14570\n",
      "42            Non-Criminal   14349\n",
      "35           Lost Property   13774\n",
      "18                   Fraud   13520\n",
      "                          Incident Description  counts\n",
      "672          Theft, From Locked Vehicle, >$950   53411\n",
      "380                              Lost Property   13774\n",
      "395  Malicious Mischief, Vandalism to Property   13323\n",
      "692            Theft, Other Property, $50-$200   12824\n",
      "73                                     Battery   12421\n",
      "750                   Vehicle, Recovered, Auto   10725\n",
      "406                    Mental Health Detention   10326\n",
      "760                      Vehicle, Stolen, Auto   10267\n",
      "694               Theft, Other Property, >$950   10119\n",
      "682        Theft, From Unlocked Vehicle, >$950    7570\n"
     ]
    }
   ],
   "source": [
    "cols = [\n",
    "    'Analysis Neighborhood',\n",
    "    'Incident Code',\n",
    "    'Incident Category',\n",
    "    'Incident Subcategory',\n",
    "    'Incident Description'\n",
    "]\n",
    "\n",
    "for col in cols:\n",
    "    out = (\n",
    "        police_data_df\n",
    "        .groupby([col])\n",
    "        .size()\n",
    "        .reset_index(name='counts')\n",
    "    )\n",
    "    print(out.sort_values(by=['counts'], ascending=False).head(10))"
   ]
  },
  {
   "cell_type": "code",
   "execution_count": 23,
   "metadata": {},
   "outputs": [
    {
     "data": {
      "image/png": "[encoded data removed]",
      "text/plain": [
       "<Figure size 432x288 with 1 Axes>"
      ]
     },
     "metadata": {
      "needs_background": "light"
     },
     "output_type": "display_data"
    }
   ],
   "source": [
    "Incidents_by_Year = sns.countplot(x=\"incident_year\", data=results_df, order = results_df['incident_year'].value_counts().index)\n",
    "# set labels\n",
    "plt.xlabel(\"Incident Year\", size=12)\n",
    "plt.ylabel(\"Number of Incidents\", size=12)\n",
    "plt.tight_layout()"
   ]
  },
  {
   "cell_type": "markdown",
   "metadata": {},
   "source": [
    "Here we see the number of incidents broken down by calendar year. The only interesting note is the sharp decrease in number of incidents in 2020, but there's a good reason for that anomaly."
   ]
  },
  {
   "cell_type": "code",
   "execution_count": 30,
   "metadata": {},
   "outputs": [
    {
     "data": {
      "image/png": "[encoded data removed]",
      "text/plain": [
       "<Figure size 432x288 with 1 Axes>"
      ]
     },
     "metadata": {
      "needs_background": "light"
     },
     "output_type": "display_data"
    }
   ],
   "source": [
    "Incidents_by_Day_of_Week = sns.countplot(x=\"incident_day_of_week\",  data=results_df, \n",
    "                                         order = results_df['incident_day_of_week'].value_counts().index)\n",
    "# set labels\n",
    "plt.xlabel(\"Day of the Week\", size=12)\n",
    "plt.ylabel(\"Number of Incidents\", size=12)\n",
    "plt.tight_layout()"
   ]
  },
  {
   "cell_type": "markdown",
   "metadata": {},
   "source": [
    "Nothing to note here in incidents by day of the week, things appear very standard across the week."
   ]
  },
  {
   "cell_type": "code",
   "execution_count": 29,
   "metadata": {},
   "outputs": [
    {
     "data": {
      "image/png": "[encoded data removed]",
      "text/plain": [
       "<Figure size 1440x432 with 1 Axes>"
      ]
     },
     "metadata": {
      "needs_background": "light"
     },
     "output_type": "display_data"
    }
   ],
   "source": [
    "plt.figure(figsize=(20,6))\n",
    "Incidents_by_Year_by_Day_of_Week = sns.countplot(x=\"incident_year\", hue = \"incident_day_of_week\", data=results_df)\n",
    "# set labels\n",
    "plt.xlabel(\"Incident Year\", size=12)\n",
    "plt.ylabel(\"Number of Incidents\", size=12)\n",
    "plt.tight_layout()"
   ]
  },
  {
   "cell_type": "code",
   "execution_count": 42,
   "metadata": {},
   "outputs": [
    {
     "data": {
      "image/png": "[encoded data removed]",
      "text/plain": [
       "<Figure size 1440x432 with 1 Axes>"
      ]
     },
     "metadata": {
      "needs_background": "light"
     },
     "output_type": "display_data"
    }
   ],
   "source": [
    "plt.figure(figsize=(20,6))\n",
    "Incidents_by_District = sns.countplot(x=\"supervisor_district\", data=results_df)\n",
    "# set labels\n",
    "plt.xlabel(\"Supervisor District\", size=15)\n",
    "plt.ylabel(\"Number of Incidents\", size=15)\n",
    "plt.tight_layout()"
   ]
  },
  {
   "cell_type": "code",
   "execution_count": 41,
   "metadata": {},
   "outputs": [
    {
     "data": {
      "image/png": "[encoded data removed]",
      "text/plain": [
       "<Figure size 1440x576 with 1 Axes>"
      ]
     },
     "metadata": {
      "needs_background": "light"
     },
     "output_type": "display_data"
    }
   ],
   "source": [
    "plt.figure(figsize=(20,8))\n",
    "District_Incidents_by_Year = sns.countplot(x=\"incident_year\", hue = \"supervisor_district\", \n",
    "                                           data=results_df, \n",
    "                                           order = results_df['incident_year'].value_counts().index)\n",
    "# set labels\n",
    "plt.xlabel(\"Incident Year\", size=12)\n",
    "plt.ylabel(\"Number of Incidents\", size=12)\n",
    "plt.tight_layout()\n",
    "plt.tight_layout()"
   ]
  },
  {
   "cell_type": "markdown",
   "metadata": {},
   "source": [
    "Correlation Matrix of Incidents by Time"
   ]
  },
  {
   "cell_type": "code",
   "execution_count": null,
   "metadata": {},
   "outputs": [],
   "source": []
  }
 ],
 "metadata": {
  "kernelspec": {
   "display_name": "Python 3",
   "language": "python",
   "name": "python3"
  },
  "language_info": {
   "codemirror_mode": {
    "name": "ipython",
    "version": 3
   },
   "file_extension": ".py",
   "mimetype": "text/x-python",
   "name": "python",
   "nbconvert_exporter": "python",
   "pygments_lexer": "ipython3",
   "version": "3.8.5"
  }
 },
 "nbformat": 4,
 "nbformat_minor": 4
}
