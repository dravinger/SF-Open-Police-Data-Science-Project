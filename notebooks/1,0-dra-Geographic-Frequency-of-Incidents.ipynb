{
 "cells": [
  {
   "cell_type": "code",
   "execution_count": 1,
   "metadata": {},
   "outputs": [],
   "source": [
    "import pandas as pd\n",
    "import numpy as np\n",
    "import seaborn as sns\n",
    "import matplotlib.pyplot as plt"
   ]
  },
  {
   "cell_type": "code",
   "execution_count": 4,
   "metadata": {},
   "outputs": [],
   "source": [
    "police_data_df = pd.read_csv('C:/Users/DeAndre/Documents/GitHub/SFPD-Police-Data-Project/data/raw/Police_Department_Incident_Reports__2018_to_Present.csv')"
   ]
  },
  {
   "cell_type": "code",
   "execution_count": 5,
   "metadata": {},
   "outputs": [
    {
     "name": "stdout",
     "output_type": "stream",
     "text": [
      "                                  Intersection  counts\n",
      "3923                     MARKET ST \\ POWELL ST    2806\n",
      "4655                   POWELL ST \\ OFARRELL ST    2511\n",
      "1680                   BOARDMAN PL \\ BRYANT ST    2230\n",
      "242                       16TH ST \\ MISSION ST    2016\n",
      "2213                        EDDY ST \\ JONES ST    1790\n",
      "129                   04TH ST \\ LONG BRIDGE ST    1728\n",
      "166   08TH ST \\ GROVE ST \\ HYDE ST \\ MARKET ST    1687\n",
      "3316                         HYDE ST \\ TURK ST    1667\n",
      "2999                 GOLDEN GATE AVE \\ HYDE ST    1615\n",
      "419                      20TH AVE \\ WINSTON DR    1572\n",
      "       Longitude  counts\n",
      "5299 -122.407337    2806\n",
      "5234 -122.408036    2511\n",
      "5587 -122.403636    2230\n",
      "4269 -122.419669    2016\n",
      "4836 -122.412595    1790\n",
      "6178 -122.391434    1728\n",
      "4666 -122.414741    1687\n",
      "4579 -122.415694    1667\n",
      "4595 -122.415505    1615\n",
      "914  -122.476039    1572\n",
      "       Latitude  counts\n",
      "5173  37.784560    2806\n",
      "5302  37.786410    2511\n",
      "4460  37.775161    2230\n",
      "3882  37.765051    2016\n",
      "5126  37.783933    1790\n",
      "4341  37.773467    1728\n",
      "4739  37.778719    1687\n",
      "5049  37.782585    1667\n",
      "4975  37.781654    1615\n",
      "990   37.726950    1572\n",
      "     Neighborhoods  counts\n",
      "31            32.0   43033\n",
      "51            53.0   36623\n",
      "19            20.0   27481\n",
      "18            19.0   17304\n",
      "20            21.0   14371\n",
      "84            86.0    9882\n",
      "97            99.0    8776\n",
      "48            50.0    8601\n",
      "52            54.0    8573\n",
      "106          108.0    8326\n"
     ]
    }
   ],
   "source": [
    "cols = [\n",
    "    'Intersection',\n",
    "    'Longitude',\n",
    "    'Latitude',\n",
    "    'Neighborhoods'\n",
    "]\n",
    "\n",
    "for col in cols:\n",
    "    out = (\n",
    "        police_data_df\n",
    "        .groupby([col])\n",
    "        .size()\n",
    "        .reset_index(name='counts')\n",
    "    )\n",
    "    print(out.sort_values(by=['counts'], ascending=False).head(10))"
   ]
  },
  {
   "cell_type": "code",
   "execution_count": null,
   "metadata": {},
   "outputs": [],
   "source": [
    "dsadasdasdasd"
   ]
  }
 ],
 "metadata": {
  "kernelspec": {
   "display_name": "Python 3",
   "language": "python",
   "name": "python3"
  },
  "language_info": {
   "codemirror_mode": {
    "name": "ipython",
    "version": 3
   },
   "file_extension": ".py",
   "mimetype": "text/x-python",
   "name": "python",
   "nbconvert_exporter": "python",
   "pygments_lexer": "ipython3",
   "version": "3.8.5"
  }
 },
 "nbformat": 4,
 "nbformat_minor": 4
}
